{
 "cells": [
  {
   "cell_type": "code",
   "execution_count": 86,
   "metadata": {},
   "outputs": [],
   "source": [
    "import flask, requests\n",
    "import pandas as pd\n",
    "import json"
   ]
  },
  {
   "cell_type": "markdown",
   "metadata": {},
   "source": [
    "### Inference Model"
   ]
  },
  {
   "cell_type": "code",
   "execution_count": 87,
   "metadata": {},
   "outputs": [],
   "source": [
    "import pickle\n",
    "\n",
    "filename = \"pipe_water.pkl\"\n",
    "with open(filename, \"rb\") as f:\n",
    "    model_water = pickle.load(f)"
   ]
  },
  {
   "cell_type": "code",
   "execution_count": 82,
   "metadata": {},
   "outputs": [
    {
     "data": {
      "text/plain": [
       "array([0])"
      ]
     },
     "execution_count": 82,
     "metadata": {},
     "output_type": "execute_result"
    }
   ],
   "source": [
    "columns = ['ph', 'Hardness_mg/L', 'Solids_ppm', 'Chloramines_ppm', 'Sulfate_mg/L', 'Conductivity_μS/cm', 'Organic_carbon_ppm', 'Trihalomethanes_μg/L', 'Turbidity_NTU']\n",
    "new_data = [8, 220.960041, 36438.310876, 5.551660, 322.740031, 548, 14, 64, 3]\n",
    "new_data = pd.DataFrame([new_data], columns=columns)\n",
    "model_water.predict(new_data)"
   ]
  },
  {
   "cell_type": "code",
   "execution_count": 94,
   "metadata": {},
   "outputs": [
    {
     "data": {
      "text/plain": [
       "{'result': {'label_idx': '1', 'label_name': 1}, 'success': True}"
      ]
     },
     "execution_count": 94,
     "metadata": {},
     "output_type": "execute_result"
    }
   ],
   "source": [
    "URL = \"http://localhost:5000/water_prediction\"\n",
    "\n",
    "data = {\n",
    "        'ph' : 8,\n",
    "        'Hardness_mg/L' : 162.857585,\n",
    "        'Solids_ppm': 12137.099597,\n",
    "        'Chloramines_ppm': 5.654856,\n",
    "        'Sulfate_mg/L': 415.287072,\n",
    "        'Conductivity_μS/cm': 297.631365,\n",
    "        'Organic_carbon_ppm': 13.452179,\n",
    "        'Trihalomethanes_μg/L': 55.642363,\n",
    "        'Turbidity_NTU': 2.956748\n",
    "    }\n",
    "\n",
    "r = requests.post(URL, json=data)\n",
    "\n",
    "#fetch / tarik data\n",
    "r.json()\n"
   ]
  }
 ],
 "metadata": {
  "interpreter": {
   "hash": "a219e74cff3d6f0d0b733240275cedab0790f96e0e10ae4045ee1ae8b83c2b4f"
  },
  "kernelspec": {
   "display_name": "Python 3.9.7 ('base')",
   "language": "python",
   "name": "python3"
  },
  "language_info": {
   "codemirror_mode": {
    "name": "ipython",
    "version": 3
   },
   "file_extension": ".py",
   "mimetype": "text/x-python",
   "name": "python",
   "nbconvert_exporter": "python",
   "pygments_lexer": "ipython3",
   "version": "3.9.7"
  },
  "orig_nbformat": 4
 },
 "nbformat": 4,
 "nbformat_minor": 2
}
